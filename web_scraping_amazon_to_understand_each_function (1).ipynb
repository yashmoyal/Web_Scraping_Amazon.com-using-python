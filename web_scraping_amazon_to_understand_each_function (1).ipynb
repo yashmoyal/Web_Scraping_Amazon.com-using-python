{
 "cells": [
  {
   "cell_type": "code",
   "execution_count": 1,
   "id": "97b0dbf9",
   "metadata": {},
   "outputs": [],
   "source": [
    "# Importing all necessary Library\n",
    "import numpy as np\n",
    "import pandas as pd\n",
    "from bs4 import BeautifulSoup\n",
    "import requests"
   ]
  },
  {
   "cell_type": "code",
   "execution_count": null,
   "id": "f00b07c9",
   "metadata": {},
   "outputs": [],
   "source": [
    "url = \"https://www.amazon.com/s?k=laptop+i7&ref=nb_sb_noss\"\n",
    "# Headers for Requests\n",
    "HEADERS = ({'User-Agent':'<insert your user agent here>','Accept-Language':'en-US, en;q=0.5'})"
   ]
  },
  {
   "cell_type": "code",
   "execution_count": null,
   "id": "d9f3cc9f",
   "metadata": {},
   "outputs": [],
   "source": [
    "webpage = requests.get(url, headers=HEADERS)"
   ]
  },
  {
   "cell_type": "code",
   "execution_count": null,
   "id": "21396bf2",
   "metadata": {},
   "outputs": [],
   "source": [
    "webpage"
   ]
  },
  {
   "cell_type": "code",
   "execution_count": null,
   "id": "25932a80",
   "metadata": {},
   "outputs": [],
   "source": [
    "webpage.content\n",
    "type(webpage.content)"
   ]
  },
  {
   "cell_type": "code",
   "execution_count": null,
   "id": "c22547df",
   "metadata": {},
   "outputs": [],
   "source": [
    "# Soup objects containing all data\n",
    "soup = BeautifulSoup(webpage.content,\"html.parser\")"
   ]
  },
  {
   "cell_type": "code",
   "execution_count": null,
   "id": "001b504f",
   "metadata": {},
   "outputs": [],
   "source": [
    "soup"
   ]
  },
  {
   "cell_type": "code",
   "execution_count": null,
   "id": "4cc04ff5",
   "metadata": {},
   "outputs": [],
   "source": [
    "links = soup.find_all(\"a\",attrs={'class':'a-link-normal s-underline-text s-underline-link-text s-link-style a-text-normal'})"
   ]
  },
  {
   "cell_type": "code",
   "execution_count": null,
   "id": "38aa005d",
   "metadata": {
    "scrolled": true
   },
   "outputs": [],
   "source": [
    "links"
   ]
  },
  {
   "cell_type": "code",
   "execution_count": null,
   "id": "a3bf0d5c",
   "metadata": {},
   "outputs": [],
   "source": [
    "link = links[1].get('href')"
   ]
  },
  {
   "cell_type": "code",
   "execution_count": null,
   "id": "dd861f5d",
   "metadata": {},
   "outputs": [],
   "source": [
    "product_link = \"https://amazon.com\" + link"
   ]
  },
  {
   "cell_type": "code",
   "execution_count": null,
   "id": "6c59e12c",
   "metadata": {},
   "outputs": [],
   "source": [
    "product_link"
   ]
  },
  {
   "cell_type": "code",
   "execution_count": null,
   "id": "65601e97",
   "metadata": {},
   "outputs": [],
   "source": [
    "new_webpage = requests.get(product_link, headers=HEADERS)"
   ]
  },
  {
   "cell_type": "code",
   "execution_count": null,
   "id": "6c527a98",
   "metadata": {},
   "outputs": [],
   "source": [
    "new_soup = BeautifulSoup(new_webpage.content,\"html.parser\")"
   ]
  },
  {
   "cell_type": "code",
   "execution_count": null,
   "id": "d7070973",
   "metadata": {},
   "outputs": [],
   "source": [
    "new_soup"
   ]
  },
  {
   "cell_type": "code",
   "execution_count": null,
   "id": "b8aa8778",
   "metadata": {},
   "outputs": [],
   "source": [
    "product_title = new_soup.find('span', attrs = {'id':'productTitle'})"
   ]
  },
  {
   "cell_type": "code",
   "execution_count": null,
   "id": "33acf0f4",
   "metadata": {},
   "outputs": [],
   "source": [
    "product_title"
   ]
  },
  {
   "cell_type": "code",
   "execution_count": null,
   "id": "11da2645",
   "metadata": {},
   "outputs": [],
   "source": [
    "product_title.text.strip()"
   ]
  },
  {
   "cell_type": "code",
   "execution_count": null,
   "id": "6db6223f",
   "metadata": {},
   "outputs": [],
   "source": [
    "product_price = new_soup.find('span', attrs = {'class':'a-size-medium a-color-price'})"
   ]
  },
  {
   "cell_type": "code",
   "execution_count": null,
   "id": "016c25fc",
   "metadata": {},
   "outputs": [],
   "source": [
    "product_price.text.strip()"
   ]
  },
  {
   "cell_type": "code",
   "execution_count": null,
   "id": "e15000da",
   "metadata": {},
   "outputs": [],
   "source": [
    "rating_count = new_soup.find('span', attrs = {'id':'acrCustomerReviewText'})"
   ]
  },
  {
   "cell_type": "code",
   "execution_count": null,
   "id": "515f9981",
   "metadata": {},
   "outputs": [],
   "source": [
    "rating_count.text"
   ]
  },
  {
   "cell_type": "code",
   "execution_count": null,
   "id": "3a42ccfc",
   "metadata": {},
   "outputs": [],
   "source": [
    "Avalability_status = new_soup.find(\"span\", attrs={'class':'a-size-base a-color-price'})"
   ]
  },
  {
   "cell_type": "code",
   "execution_count": null,
   "id": "b9f06ec8",
   "metadata": {},
   "outputs": [],
   "source": [
    "Avalability_status.text"
   ]
  }
 ],
 "metadata": {
  "kernelspec": {
   "display_name": "Python 3 (ipykernel)",
   "language": "python",
   "name": "python3"
  },
  "language_info": {
   "codemirror_mode": {
    "name": "ipython",
    "version": 3
   },
   "file_extension": ".py",
   "mimetype": "text/x-python",
   "name": "python",
   "nbconvert_exporter": "python",
   "pygments_lexer": "ipython3",
   "version": "3.9.10"
  }
 },
 "nbformat": 4,
 "nbformat_minor": 5
}
